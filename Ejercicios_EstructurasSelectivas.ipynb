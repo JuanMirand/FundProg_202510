{
  "nbformat": 4,
  "nbformat_minor": 0,
  "metadata": {
    "colab": {
      "provenance": [],
      "authorship_tag": "ABX9TyMzENB2JdbqsE06tPkhW5S+",
      "include_colab_link": true
    },
    "kernelspec": {
      "name": "python3",
      "display_name": "Python 3"
    },
    "language_info": {
      "name": "python"
    }
  },
  "cells": [
    {
      "cell_type": "markdown",
      "metadata": {
        "id": "view-in-github",
        "colab_type": "text"
      },
      "source": [
        "<a href=\"https://colab.research.google.com/github/JuanMirand/FundProg_202510/blob/main/Ejercicios_EstructurasSelectivas.ipynb\" target=\"_parent\"><img src=\"https://colab.research.google.com/assets/colab-badge.svg\" alt=\"Open In Colab\"/></a>"
      ]
    },
    {
      "cell_type": "markdown",
      "source": [
        "#Ejercicios Estructuras Selectivas\n",
        "\n",
        "**Integrante:**\n",
        "<br> **Nombre:** Juan Sebastián Miranda Almanza\n",
        "<br> **ID:** 000548569\n",
        "<br> **Email:** juan.mirandaa@upb.edu.co"
      ],
      "metadata": {
        "id": "LGV0PPm_I5YJ"
      }
    },
    {
      "cell_type": "markdown",
      "source": [
        "#Ejercicio #1:\n",
        "\n",
        "#Números Romanos  \n",
        "Diseña un programa que solicite al usuario ingresar un número dentro del rango de 1 a 10. El programa debe mostrar la versión en números romanos de ese número. Si el número está fuera del rango de 1 a 10, el programa debe mostrar un mensaje de error.\n",
        "\n",
        "_Algoritmo_\n",
        "\n",
        "1. Iniciar.\n",
        "2. Pedir al usuario que ingrese un número entre 1 y 10.\n",
        "3. Verificar el número ingresado:\n",
        "4. Si es 1, mostrar \"I\".\n",
        "5. Si es 2, mostrar \"II\".\n",
        "6. Si es 3, mostrar \"III\".\n",
        "7. Si es 4, mostrar \"IV\".\n",
        "8. Si es 5, mostrar \"V\".\n",
        "9. Si es 6, mostrar \"VI\".\n",
        "10. Si es 7, mostrar \"VII\".\n",
        "11. Si es 8, mostrar \"VIII\".\n",
        "12. Si es 9, mostrar \"IX\".\n",
        "13. Si es 10, mostrar \"X\".\n",
        "14. Si el número no está entre 1 y 10, mostrar un mensaje de error.\n",
        "15. Finalizar.\n",
        "\n",
        "```\n",
        "Program Numeros_Romanos  \n",
        "Start  \n",
        "    Declare int num  \n",
        "\n",
        "    Display \"Ingrese un número del 1 al 10\"  \n",
        "    Input num  \n",
        "\n",
        "    If num == 1 Then  \n",
        "        Display \"I\"  \n",
        "    Elif num == 2 Then  \n",
        "        Display \"II\"  \n",
        "    Elif num == 3 Then  \n",
        "        Display \"III\"  \n",
        "    Elif num == 4 Then  \n",
        "        Display \"IV\"  \n",
        "    Elif num == 5 Then  \n",
        "        Display \"V\"  \n",
        "    Elif num == 6 Then  \n",
        "        Display \"VI\"  \n",
        "    Elif num == 7 Then  \n",
        "        Display \"VII\"  \n",
        "    Elif num == 8 Then  \n",
        "        Display \"VIII\"  \n",
        "    Elif num == 9 Then  \n",
        "        Display \"IX\"  \n",
        "    Elif num == 10 Then  \n",
        "        Display \"X\"  \n",
        "    Else  \n",
        "        Display \"Número fuera de rango\"  \n",
        "    End If  \n",
        "End  \n",
        "\n",
        "```"
      ],
      "metadata": {
        "id": "3hfv-wuHJWGP"
      }
    },
    {
      "cell_type": "code",
      "source": [
        "num = int(input(\"Ingrese un número del 1 al 10: \"))\n",
        "\n",
        "if num == 1:\n",
        "    print(\"I\")\n",
        "elif num == 2:\n",
        "    print(\"II\")\n",
        "elif num == 3:\n",
        "    print(\"III\")\n",
        "elif num == 4:\n",
        "    print(\"IV\")\n",
        "elif num == 5:\n",
        "    print(\"V\")\n",
        "elif num == 6:\n",
        "    print(\"VI\")\n",
        "elif num == 7:\n",
        "    print(\"VII\")\n",
        "elif num == 8:\n",
        "    print(\"VIII\")\n",
        "elif num == 9:\n",
        "    print(\"IX\")\n",
        "elif num == 10:\n",
        "    print(\"X\")\n",
        "else:\n",
        "    print(\"Número fuera de rango\")"
      ],
      "metadata": {
        "colab": {
          "base_uri": "https://localhost:8080/"
        },
        "id": "3GaMic63L0Aq",
        "outputId": "31faf3ba-e793-496a-a34b-92c4d9595444"
      },
      "execution_count": 2,
      "outputs": [
        {
          "output_type": "stream",
          "name": "stdout",
          "text": [
            "Ingrese un número del 1 al 10: 11\n",
            "Número fuera de rango\n"
          ]
        }
      ]
    },
    {
      "cell_type": "markdown",
      "source": [
        "#Ejercicio #2:\n",
        "\n",
        "#Áreas de Rectángulos  \n",
        "El área de un rectángulo se calcula multiplicando su longitud por su ancho. Diseña un programa que solicite la longitud y el ancho de dos rectángulos. El programa debe informar al usuario cuál de los rectángulos tiene un área mayor o si ambas áreas son iguales.\n",
        "\n",
        "_Algoritmo_\n",
        "\n",
        "1. Iniciar.\n",
        "2. Pedir al usuario que ingrese la longitud y el ancho del primer rectángulo.\n",
        "3. Pedir al usuario que ingrese la longitud y el ancho del segundo rectángulo.\n",
        "4. Calcular el área de ambos rectángulos usando la fórmula:\n",
        "Area = Longitud × Ancho\n",
        "5. Comparar las áreas:\n",
        "6. Si el área del primer rectángulo es mayor, mostrar que tiene mayor área.\n",
        "7. Si el área del segundo rectángulo es mayor, mostrar que tiene mayor área.\n",
        "8. Si ambas áreas son iguales, mostrar que son iguales.\n",
        "9. Finalizar.\n",
        "\n",
        "```\n",
        "Program Area_Rectangulos  \n",
        "Start  \n",
        "    Declare float long1, anc1, area1  \n",
        "    Declare float long2, anc2, area2  \n",
        "\n",
        "    Display \"Ingrese la longitud del primer rectángulo\"  \n",
        "    Input long1  \n",
        "    Display \"Ingrese el ancho del primer rectángulo\"  \n",
        "    Input anc1  \n",
        "\n",
        "    Set area1 = long1 * anc1  \n",
        "\n",
        "    Display \"Ingrese la longitud del segundo rectángulo\"  \n",
        "    Input long2  \n",
        "    Display \"Ingrese el ancho del segundo rectángulo\"  \n",
        "    Input anc2  \n",
        "\n",
        "    Set area2 = long2 * anc2  \n",
        "\n",
        "    If area1 > area2 Then  \n",
        "        Display \"El primer rectángulo tiene mayor área\"  \n",
        "    Elif area1 < area2 Then  \n",
        "        Display \"El segundo rectángulo tiene mayor área\"  \n",
        "    Else  \n",
        "        Display \"Ambos rectángulos tienen la misma área\"  \n",
        "    End If  \n",
        "End  \n",
        "\n",
        "```"
      ],
      "metadata": {
        "id": "nwTMvJcjL6QB"
      }
    },
    {
      "cell_type": "code",
      "source": [
        "long1 = float(input(\"Ingrese la longitud del primer rectángulo: \"))\n",
        "anc1 = float(input(\"Ingrese el ancho del primer rectángulo: \"))\n",
        "area1 = long1 * anc1\n",
        "\n",
        "long2 = float(input(\"Ingrese la longitud del segundo rectángulo: \"))\n",
        "anc2 = float(input(\"Ingrese el ancho del segundo rectángulo: \"))\n",
        "area2 = long2 * anc2\n",
        "\n",
        "if area1 > area2:\n",
        "    print(\"El primer rectángulo tiene mayor área\")\n",
        "elif area1 < area2:\n",
        "    print(\"El segundo rectángulo tiene mayor área\")\n",
        "else:\n",
        "    print(\"Ambos rectángulos tienen la misma área\")"
      ],
      "metadata": {
        "colab": {
          "base_uri": "https://localhost:8080/"
        },
        "id": "vD0cAh9TPW1S",
        "outputId": "be45bd77-f685-4e4d-9611-d2a77f29fa02"
      },
      "execution_count": 3,
      "outputs": [
        {
          "output_type": "stream",
          "name": "stdout",
          "text": [
            "Ingrese la longitud del primer rectángulo: 100\n",
            "Ingrese el ancho del primer rectángulo: 20\n",
            "Ingrese la longitud del segundo rectángulo: 50\n",
            "Ingrese el ancho del segundo rectángulo: 60\n",
            "El segundo rectángulo tiene mayor área\n"
          ]
        }
      ]
    },
    {
      "cell_type": "markdown",
      "source": [
        "#Ejercicio #3:\n",
        "\n",
        "#Masa y Peso  \n",
        "Los científicos miden la masa de un objeto en kilogramos y su peso en Newtons.\n",
        "Si conoces la cantidad de masa de un objeto, puedes calcular su peso en Newtons con la siguiente fórmula:\n",
        "<br> **_weight_ = _mass_ x 9.8**\n",
        "\n",
        "<br> Diseña un programa que solicite al usuario ingresar la masa de un objeto y luego calcule su peso. Si el objeto pesa más de 1,000 Newtons, muestra un mensaje indicando que es demasiado pesado. Si el objeto pesa menos de 10 Newtons, muestra un mensaje indicando que es demasiado ligero.\n",
        "\n",
        "<br> _Algoritmo_\n",
        "\n",
        "1. Iniciar.\n",
        "2. Declarar masa y peso como números decimales.\n",
        "3. Mostrar \"Ingrese la masa del objeto en kg\".\n",
        "4. Leer masa.\n",
        "5. Calcular peso = masa * 9.8\n",
        "6. Mostrar \"El peso del objeto es:\", peso, \"Newtons\".\n",
        "7. Si peso > 1000, mostrar \"El objeto es demasiado pesado\".\n",
        "8. Si no, si peso < 10, mostrar \"El objeto es demasiado ligero\".\n",
        "9. Finalizar.\n",
        "\n",
        "```\n",
        "Program Masa_Peso  \n",
        "Start  \n",
        "    Declare float masa, peso  \n",
        "\n",
        "    Display \"Ingrese la masa del objeto en kg\"  \n",
        "    Input masa  \n",
        "\n",
        "    Set peso = masa * 9.8  \n",
        "\n",
        "    Display \"El peso del objeto es:\", peso, \"Newtons\"  \n",
        "\n",
        "    If peso > 1000 Then  \n",
        "        Display \"El objeto es demasiado pesado\"  \n",
        "    Elif peso < 10 Then  \n",
        "        Display \"El objeto es demasiado ligero\"  \n",
        "    End If  \n",
        "End  \n",
        "```"
      ],
      "metadata": {
        "id": "JBFhxHXJPeB5"
      }
    },
    {
      "cell_type": "code",
      "source": [
        "masa = float(input(\"Ingrese la masa del objeto en kg: \"))\n",
        "peso = masa * 9.8\n",
        "\n",
        "print(f\"El peso del objeto es: {peso:.2f} Newtons\")\n",
        "\n",
        "if peso > 1000:\n",
        "    print(\"El objeto es demasiado pesado\")\n",
        "elif peso < 10:\n",
        "    print(\"El objeto es demasiado ligero\")\n"
      ],
      "metadata": {
        "colab": {
          "base_uri": "https://localhost:8080/"
        },
        "id": "MaltUPeLz71E",
        "outputId": "1d66cd82-4b5c-4b90-ff96-d5fde2f5fa1c"
      },
      "execution_count": 5,
      "outputs": [
        {
          "output_type": "stream",
          "name": "stdout",
          "text": [
            "Ingrese la masa del objeto en kg: 1\n",
            "El peso del objeto es: 9.80 Newtons\n",
            "El objeto es demasiado ligero\n"
          ]
        }
      ]
    },
    {
      "cell_type": "markdown",
      "source": [
        "#Ejercicio #4:\n",
        "\n",
        "#Fechas mágicas\n",
        "La fecha 10 de junio de 1960 es especial porque cuando se escribe en el siguiente formato, el mes multiplicado por el día es igual al año:\n",
        "\n",
        "<br> **_6/10/60_**\n",
        "\n",
        "<br> Diseña un programa que solicite al usuario ingresar un mes (en formato numérico), un día y un año de dos dígitos. El programa debe determinar si el mes multiplicado por el día es igual al año. Si es así, debe mostrar un mensaje diciendo que la fecha es mágica. De lo contrario, debe mostrar un mensaje indicando que la fecha no es mágica.\n",
        "\n",
        "<br>_Algoritmo_\n",
        "\n",
        "1. Iniciar.\n",
        "2. Declarar mes, dia, año como números enteros.\n",
        "3. Mostrar \"Ingrese el mes (en número):\".\n",
        "4. Leer mes.\n",
        "5. Mostrar \"Ingrese el día:\".\n",
        "6. Leer dia.\n",
        "7. Mostrar \"Ingrese el año (dos dígitos):\".\n",
        "8. Leer año.\n",
        "9. Si (mes * dia) == anio, mostrar \"La fecha es mágica\".\n",
        "10. Si no, mostrar \"La fecha no es mágica\".\n",
        "11. Finalizar.\n",
        "\n",
        "```\n",
        "Program Fechas_Magicas  \n",
        "Start  \n",
        "    Declare int mes, dia, anio  \n",
        "\n",
        "    Display \"Ingrese el mes (en número):\"  \n",
        "    Input mes  \n",
        "\n",
        "    Display \"Ingrese el día:\"  \n",
        "    Input dia  \n",
        "\n",
        "    Display \"Ingrese el año (dos dígitos):\"  \n",
        "    Input anio  \n",
        "\n",
        "    If (mes * dia) == anio Then  \n",
        "        Display \"La fecha es mágica\"  \n",
        "    Else  \n",
        "        Display \"La fecha no es mágica\"  \n",
        "    End If  \n",
        "End  \n",
        "\n",
        "```"
      ],
      "metadata": {
        "id": "jfVxVW5Oz_nH"
      }
    },
    {
      "cell_type": "code",
      "source": [
        "mes = int(input(\"Ingrese el mes (número): \"))\n",
        "dia = int(input(\"Ingrese el día: \"))\n",
        "anio = int(input(\"Ingrese el año (dos dígitos): \"))\n",
        "\n",
        "if mes * dia == anio:\n",
        "    print(\"La fecha es mágica\")\n",
        "else:\n",
        "    print(\"La fecha no es mágica\")\n"
      ],
      "metadata": {
        "colab": {
          "base_uri": "https://localhost:8080/"
        },
        "id": "HLYjJsINEITv",
        "outputId": "cb557cca-d7ee-4197-a4fa-c6806c2d0648"
      },
      "execution_count": 11,
      "outputs": [
        {
          "output_type": "stream",
          "name": "stdout",
          "text": [
            "Ingrese el mes (número): 4\n",
            "Ingrese el día: 2\n",
            "Ingrese el año (dos dígitos): 8\n",
            "La fecha es mágica\n"
          ]
        }
      ]
    },
    {
      "cell_type": "markdown",
      "source": [
        "#Ejercicio #5:\n",
        "\n",
        "#Mezclador de Colores  \n",
        "Los colores rojo, azul y amarillo son conocidos como colores primarios porque no se pueden obtener\n",
        "mezclando otros colores. Cuando mezclas dos colores primarios, obtienes un color secundario, como\n",
        "se muestra aquí:\n",
        "* Cuando mezclas rojo y azul, obtienes púrpura.\n",
        "* Cuando mezclas rojo y amarillo, obtienes naranja.\n",
        "* Cuando mezclas azul y amarillo, obtienes verde.\n",
        "\n",
        "Diseña un programa que solicite al usuario ingresar los nombres de dos colores primarios para mezclarlos. Si el usuario ingresa algo diferente a \"rojo\", \"azul\" o \"amarillo\", el programa debe mostrar un mensaje de error. De lo contrario, el programa debe mostrar el nombre del color secundario resultante.\n",
        "\n",
        "<br>_Algoritmo_\n",
        "\n",
        "1. Iniciar.\n",
        "2. Declarar color1, color2 como cadenas de texto.\n",
        "3. Mostrar \"Ingrese el primer color primario:\".\n",
        "4. Leer color1.\n",
        "5. Mostrar \"Ingrese el segundo color primario:\".\n",
        "6. Leer color2.\n",
        "7. Si color1 y color2 son combinaciones válidas, mostrar el color resultante.\n",
        "8. Si no, mostrar \"Error: combinación inválida\".\n",
        "9. Finalizar.\n",
        "\n",
        "```\n",
        "Program Mezclador_Colores  \n",
        "Start  \n",
        "    Declare string color1, color2  \n",
        "\n",
        "    Display \"Ingrese el primer color primario:\"  \n",
        "    Input color1  \n",
        "\n",
        "    Display \"Ingrese el segundo color primario:\"  \n",
        "    Input color2  \n",
        "\n",
        "    If (color1 == \"rojo\" And color2 == \"azul\") Or (color1 == \"azul\" And color2 == \"rojo\") Then  \n",
        "        Display \"El color resultante es morado\"  \n",
        "    Elif (color1 == \"rojo\" And color2 == \"amarillo\") Or (color1 == \"amarillo\" And color2 == \"rojo\") Then  \n",
        "        Display \"El color resultante es naranja\"  \n",
        "    Elif (color1 == \"azul\" And color2 == \"amarillo\") Or (color1 == \"amarillo\" And color2 == \"azul\") Then  \n",
        "        Display \"El color resultante es verde\"  \n",
        "    Else  \n",
        "        Display \"Error: combinación inválida\"  \n",
        "    End If  \n",
        "End  \n",
        "```"
      ],
      "metadata": {
        "id": "h86M--U_Ev7h"
      }
    },
    {
      "cell_type": "code",
      "source": [
        "color1 = input(\"Ingrese el primer color primario: \").lower()\n",
        "color2 = input(\"Ingrese el segundo color primario: \").lower()\n",
        "\n",
        "colores = {(\"rojo\", \"azul\"): \"morado\", (\"rojo\", \"amarillo\"): \"naranja\", (\"azul\", \"amarillo\"): \"verde\"}\n",
        "resultado = colores.get(tuple(sorted([color1, color2])), \"Error: combinación inválida\")\n",
        "\n",
        "print(resultado)\n"
      ],
      "metadata": {
        "colab": {
          "base_uri": "https://localhost:8080/"
        },
        "id": "8nSrUV_BGMZV",
        "outputId": "0bf335a2-3bb2-4087-ce53-c3ef661af1ec"
      },
      "execution_count": 12,
      "outputs": [
        {
          "output_type": "stream",
          "name": "stdout",
          "text": [
            "Ingrese el primer color primario: rojo\n",
            "Ingrese el segundo color primario: negro\n",
            "Error: combinación inválida\n"
          ]
        }
      ]
    },
    {
      "cell_type": "markdown",
      "source": [
        "#Ejercicio #6:\n",
        "\n",
        "# Puntos del Club de Lectura  \n",
        "Serendipity Booksellers tiene un club de lectura que otorga puntos a sus clientes según la cantidad de libros comprados cada mes. Los puntos se otorgan de la siguiente manera:\n",
        "* Si un cliente compra 0 libros, gana 0 puntos.\n",
        "* Si un cliente compra 1 libro, gana 5 puntos.\n",
        "* Si un cliente compra 2 libros, gana 15 puntos.\n",
        "* Si un cliente compra 3 libros, gana 30 puntos.\n",
        "* Si un cliente compra 4 o más libros, gana 60 puntos.\n",
        "\n",
        "<br>Diseña un programa que solicite al usuario ingresar la cantidad de libros que ha comprado este mes y muestre el número de puntos otorgados.\n",
        "\n",
        "<br>_Algoritmo_\n",
        "\n",
        "1. Iniciar.\n",
        "2. Declarar libros, puntos como números enteros.\n",
        "3. Mostrar \"Ingrese la cantidad de libros comprados este mes:\".\n",
        "4. Leer libros.\n",
        "5. Si libros == 0, puntos = 0.\n",
        "6. Si no, Si libros == 1, puntos = 5.\n",
        "7. Si no, Si libros == 2, puntos = 15.\n",
        "8. Si no, Si libros == 3, puntos = 30.\n",
        "9. Si no, Si libros >= 4, puntos = 60.\n",
        "10. Mostrar \"Puntos obtenidos:\", puntos.\n",
        "11. Finalizar.\n",
        "\n",
        "```\n",
        "Program Puntos_Lectura  \n",
        "Start  \n",
        "    Declare int libros, puntos  \n",
        "\n",
        "    Display \"Ingrese la cantidad de libros comprados este mes:\"  \n",
        "    Input libros  \n",
        "\n",
        "    If libros == 0 Then  \n",
        "        Set puntos = 0  \n",
        "    Elif libros == 1 Then  \n",
        "        Set puntos = 5  \n",
        "    Elif libros == 2 Then  \n",
        "        Set puntos = 15  \n",
        "    Elif libros == 3 Then  \n",
        "        Set puntos = 30  \n",
        "    Elif libros == 4 Then\n",
        "        Set puntos = 60\n",
        "    \n",
        "  Else\n",
        "        Set \"Error: Cantidad no es válida de libros\"     \n",
        "\n",
        "  End If\n",
        "End\n",
        "```\n",
        "\n",
        "\n",
        "\n",
        "\n"
      ],
      "metadata": {
        "id": "e34I_ioUGT3J"
      }
    },
    {
      "cell_type": "code",
      "source": [
        "libros = int(input(\"Ingrese la cantidad de libros comprados este mes: \"))\n",
        "\n",
        "if libros == 0:\n",
        "    puntos = 0\n",
        "elif libros == 1:\n",
        "    puntos = 5\n",
        "elif libros == 2:\n",
        "    puntos = 15\n",
        "elif libros == 3:\n",
        "    puntos = 30\n",
        "elif libros == 4:\n",
        "    puntos = 60\n",
        "else:\n",
        "    print(\"Error: Cantidad no es válida de libros\")"
      ],
      "metadata": {
        "colab": {
          "base_uri": "https://localhost:8080/"
        },
        "id": "Yh-88aHFHTXY",
        "outputId": "16f38cdb-e797-496f-be4f-189b4e0f924f"
      },
      "execution_count": 17,
      "outputs": [
        {
          "output_type": "stream",
          "name": "stdout",
          "text": [
            "Ingrese la cantidad de libros comprados este mes: 10\n",
            "Error: Cantidad no es válida de libros\n"
          ]
        }
      ]
    },
    {
      "cell_type": "markdown",
      "source": [
        "#Ejercicio #7:\n",
        "\n",
        "#Ventas de Software\n",
        "Una compañía de software vende un paquete que se vende al por menor por $99. Se otorgan descuentos por cantidad según la siguiente tabla:\n",
        "* 10–19 unidades: 20% de descuento.\n",
        "* 20–49 unidades: 30% de descuento.\n",
        "* 50–99 unidades: 40% de descuento\n",
        "* 100 o más unidades: 50% de descuento\n",
        "\n",
        "<br> Diseña un programa que solicite al usuario ingresar la cantidad de paquetes comprados. El programadebe mostrar el monto del descuento (si lo hay) y el monto total de la compra después del descuento.\n",
        "\n",
        "<br>_Algoritmo_\n",
        "\n",
        "1. Iniciar.\n",
        "2. Declarar cantidad, descuento, total como números decimales.\n",
        "3. Mostrar \"Ingrese la cantidad de paquetes comprados:\"\n",
        "4. Leer cantidad.\n",
        "5. Si cantidad >= 10 Y cantidad <= 19, descuento = 20%.\n",
        "6. Si no, Si cantidad >= 20 Y cantidad <= 49, descuento = 30%.\n",
        "7. Si no, Si cantidad >= 50 Y cantidad <= 99, descuento = 40%.\n",
        "8. Si no, Si cantidad >= 100, descuento = 50%.\n",
        "9. Si no, descuento = 0%.\n",
        "10. Calcular total = cantidad * 99 * (1 - descuento)\n",
        "11. Mostrar \"Total a pagar:\", total.\n",
        "12. Finalizar.\n",
        "\n",
        "```\n",
        "Program Ventas_Software  \n",
        "Start  \n",
        "    Declare int cantidad  \n",
        "    Declare float descuento, total  \n",
        "\n",
        "    Display \"Ingrese la cantidad de paquetes comprados:\"  \n",
        "    Input cantidad  \n",
        "\n",
        "    If cantidad >= 10 And cantidad <= 19 Then  \n",
        "        Set descuento = 0.20  \n",
        "    Elif cantidad >= 20 And cantidad <= 49 Then  \n",
        "        Set descuento = 0.30  \n",
        "    Elif cantidad >= 50 And cantidad <= 99 Then  \n",
        "        Set descuento = 0.40  \n",
        "    Elif cantidad >= 100 Then  \n",
        "        Set descuento = 0.50  \n",
        "    Else  \n",
        "        Set descuento = 0  \n",
        "    End If  \n",
        "\n",
        "    Set total = cantidad * 99 * (1 - descuento)  \n",
        "\n",
        "    Display \"Total a pagar:\", total  \n",
        "End  \n",
        "```"
      ],
      "metadata": {
        "id": "oy-xo52sIVbb"
      }
    },
    {
      "cell_type": "code",
      "source": [
        "cantidad = int(input(\"Ingrese la cantidad de paquetes comprados: \"))\n",
        "precio_unitario = 99\n",
        "\n",
        "if 10 <= cantidad <= 19:\n",
        "    descuento = 0.20\n",
        "elif 20 <= cantidad <= 49:\n",
        "    descuento = 0.30\n",
        "elif 50 <= cantidad <= 99:\n",
        "    descuento = 0.40\n",
        "elif cantidad >= 100:\n",
        "    descuento = 0.50\n",
        "else:\n",
        "    descuento = 0\n",
        "\n",
        "total = cantidad * precio_unitario * (1 - descuento)\n",
        "print(f\"Total a pagar: ${total:.2f}\")\n"
      ],
      "metadata": {
        "colab": {
          "base_uri": "https://localhost:8080/"
        },
        "id": "YJpSdo_uK6oH",
        "outputId": "0fdabfc8-787c-4ac1-c9bb-c2505517b0c6"
      },
      "execution_count": 21,
      "outputs": [
        {
          "output_type": "stream",
          "name": "stdout",
          "text": [
            "Ingrese la cantidad de paquetes comprados: 10\n",
            "Total a pagar: $792.00\n"
          ]
        }
      ]
    },
    {
      "cell_type": "markdown",
      "source": [
        "#Ejercicio #8:\n",
        "\n",
        "#Juego del Cambio para un Dólar  \n",
        "\n",
        "Diseña un juego de contar cambio que solicite al usuario ingresar la cantidad de monedas necesarias para hacer exactamente un dólar. El programa debe pedir al usuario que ingrese la cantidad de centavos, monedas de cinco centavos, monedas de diez centavos y monedas de veinticinco centavos.\n",
        "Si el valor total de las monedas ingresadas es igual a un dólar, el programa debe felicitar al usuario por ganar el juego. De lo contrario, el programa debe mostrar un mensaje indicando si la cantidad ingresada fue mayor o menor que un dólar.\n",
        "\n",
        "<br>_Algoritmo_\n",
        "\n",
        "1. Iniciar.\n",
        "2. Declarar centavos, cinco, diez, veinticinco, total como números decimales\n",
        "3. Mostrar \"Ingrese la cantidad de monedas de 1, 5, 10 y 25 centavos\"\n",
        "4. Leer centavos, cinco, diez, veinticinco\n",
        "5. Calcular total = (centavos * 0.01) + (cinco * 0.05) + (diez * 0.10) + (veinticinco * 0.25)\n",
        "6. Si total == 1, mostrar \"¡Felicidades! Ha ganado el juego.\"\n",
        "7. Si no, Si total > 1, mostrar \"El total es mayor a un dólar.\"\n",
        "8. Si no, mostrar \"El total es menor a un dólar.\"\n",
        "9. Finalizar.\n",
        "\n",
        "```\n",
        "Program Juego_Cambio  \n",
        "Start  \n",
        "    Declare int centavos, cinco, diez, veinticinco  \n",
        "    Declare float total  \n",
        "\n",
        "    Display \"Ingrese la cantidad de monedas de 1, 5, 10 y 25 centavos\"  \n",
        "    Input centavos, cinco, diez, veinticinco  \n",
        "\n",
        "    Set total = (centavos * 0.01) + (cinco * 0.05) + (diez * 0.10) + (veinticinco * 0.25)  \n",
        "\n",
        "    If total == 1 Then  \n",
        "        Display \"Felicidades, hsa ganado el juego!\"  \n",
        "    Elif total > 1 Then  \n",
        "        Display \"El total es mayor a un dólar.\"  \n",
        "    Else  \n",
        "        Display \"El total es menor a un dólar.\"  \n",
        "    End If  \n",
        "End  \n",
        "```"
      ],
      "metadata": {
        "id": "awv6GeeLLSAO"
      }
    },
    {
      "cell_type": "code",
      "source": [
        "centavos = int(input(\"Ingrese la cantidad de monedas de 1 centavo: \"))\n",
        "cinco = int(input(\"Ingrese la cantidad de monedas de 5 centavos: \"))\n",
        "diez = int(input(\"Ingrese la cantidad de monedas de 10 centavos: \"))\n",
        "veinticinco = int(input(\"Ingrese la cantidad de monedas de 25 centavos: \"))\n",
        "\n",
        "total = (centavos * 0.01) + (cinco * 0.05) + (diez * 0.10) + (veinticinco * 0.25)\n",
        "\n",
        "if total == 1:\n",
        "    print(\"Felicidades, has ganado el juego!\")\n",
        "elif total > 1:\n",
        "    print(\"El total es mayor a un dólar.\")\n",
        "else:\n",
        "    print(\"El total es menor a un dólar.\")\n"
      ],
      "metadata": {
        "colab": {
          "base_uri": "https://localhost:8080/"
        },
        "id": "GpsTrrQbL8ZM",
        "outputId": "b2e4a852-d0e4-459a-dba9-26297f82d06c"
      },
      "execution_count": 41,
      "outputs": [
        {
          "output_type": "stream",
          "name": "stdout",
          "text": [
            "Ingrese la cantidad de monedas de 1 centavo: 50\n",
            "Ingrese la cantidad de monedas de 5 centavos: 1\n",
            "Ingrese la cantidad de monedas de 10 centavos: 2\n",
            "Ingrese la cantidad de monedas de 25 centavos: 3\n",
            "El total es mayor a un dólar.\n"
          ]
        }
      ]
    },
    {
      "cell_type": "markdown",
      "source": [
        "#Ejercicio #9:\n",
        "\n",
        "#Cargos por Envío  \n",
        "La Compañía de Envíos Fast Freight cobra las siguientes tarifas:\n",
        "* Peso del paquete: 2 libras o menos, tarifa: $1.10 por libra.\n",
        "* Peso del paquete: Más de 2 libras, pero no más de 6 libras, tarifa: $2.20 por libra.\n",
        "* Peso del paquete: Más de 6 libras, pero no más de 10 libras, tarifa: $3.70 por libra.\n",
        "* Peso del paquete: Más de 10 libras, tarifa: $3.80 por libra.\n",
        "\n",
        "<br> Diseña un programa que solicite al usuario ingresar el peso de un paquete y luego muestre los cargos por envío.\n",
        "\n",
        "<br>_Algoritmo_\n",
        "\n",
        "1. Iniciar.\n",
        "2. Declarar peso, tarifa, costo_total como números decimales.\n",
        "3. Mostrar \"Ingrese el peso del paquete en libras:\"\n",
        "4. Leer peso.\n",
        "5. Si peso <= 2, tarifa = 1.10\n",
        "6. Si no, Si peso > 2 Y peso <= 6, tarifa = 2.20\n",
        "7. Si no, Si peso > 6 Y peso <= 10, tarifa = 3.70\n",
        "8. Si no, tarifa = 3.80\n",
        "9. Calcular costo_total = peso * tarifa\n",
        "10. Mostrar \"El costo de envío es:\", costo_total\n",
        "11. Finalizar.\n",
        "\n",
        "```\n",
        "Program Cargos_Envio  \n",
        "Start  \n",
        "    Declare float peso, tarifa, costo_total  \n",
        "\n",
        "    Display \"Ingrese el peso del paquete en libras:\"  \n",
        "    Input peso  \n",
        "\n",
        "    If peso <= 2 Then  \n",
        "        Set tarifa = 1.10  \n",
        "    Elif peso > 2 And peso <= 6 Then  \n",
        "        Set tarifa = 2.20  \n",
        "    Elif peso > 6 And peso <= 10 Then  \n",
        "        Set tarifa = 3.70  \n",
        "    Else  \n",
        "        Set tarifa = 3.80  \n",
        "    End If  \n",
        "\n",
        "    Set costo_total = peso * tarifa  \n",
        "\n",
        "    Display \"El costo de envío es:\", costo_total  \n",
        "End  \n",
        "```"
      ],
      "metadata": {
        "id": "rfVG9K59OHr5"
      }
    },
    {
      "cell_type": "code",
      "source": [
        "peso = float(input(\"Ingrese el peso del paquete en libras: \"))\n",
        "\n",
        "if peso <= 2:\n",
        "    tarifa = 1.10\n",
        "elif peso <= 6:\n",
        "    tarifa = 2.20\n",
        "elif peso <= 10:\n",
        "    tarifa = 3.70\n",
        "else:\n",
        "    tarifa = 3.80\n",
        "\n",
        "costo_total = peso * tarifa\n",
        "print(f\"El costo de envío es: ${costo_total:.2f}\")\n"
      ],
      "metadata": {
        "colab": {
          "base_uri": "https://localhost:8080/"
        },
        "id": "0O3vHxEsU5HA",
        "outputId": "a5de9dcf-432e-41c7-c79c-6140f1249453"
      },
      "execution_count": 48,
      "outputs": [
        {
          "output_type": "stream",
          "name": "stdout",
          "text": [
            "Ingrese el peso del paquete en libras: 9\n",
            "El costo de envío es: $33.30\n"
          ]
        }
      ]
    },
    {
      "cell_type": "markdown",
      "source": [
        "#Ejercicio #10:\n",
        "\n",
        "#Mejora del Programa de Índice de Masa Corporal  \n",
        "\n",
        "El IMC de una persona se calcula con la siguiente fórmula:\n",
        "<br> IMC = (𝑤𝑒𝑖𝑔ℎ𝑡× 703) / (ℎ𝑒𝑖𝑔ℎ𝑡^2)\n",
        "\n",
        "<br> En la fórmula, el peso (weight) se mide en libras y la altura (height) en pulgadas\n",
        "\n",
        "Mejora el programa para que muestre un mensaje indicando si la persona tiene un peso óptimo, si está por debajo del peso o si tiene sobrepeso. Se considera que el peso de una persona sedentaria es óptimo si su IMC está entre 18.5 y 25. Si el IMC es menor de 18.5, se considera que la persona está por debajo del peso. Si el valor del IMC es mayor de 25, se considera que la persona tiene sobrepeso.\n",
        "\n",
        "<br>_Algoritmo_\n",
        "\n",
        "1. Iniciar.\n",
        "2. Declarar peso, altura, imc como números decimales.\n",
        "3. Mostrar \"Ingrese su peso en libras:\"\n",
        "4. Leer peso.\n",
        "5. Mostrar \"Ingrese su altura en pulgadas:\"\n",
        "6. Leer altura.\n",
        "7. Calcular imc = (peso * 703) / (altura * altura)\n",
        "8. Mostrar \"Su IMC es:\", imc\n",
        "9. Si imc < 18.5, mostrar \"Está por debajo del peso ideal\"\n",
        "10. Si no, Si imc >= 18.5 Y imc <= 25, mostrar \"Tiene un peso óptimo\"\n",
        "11. Si no, mostrar \"Tiene sobrepeso\"\n",
        "12. Finalizar.\n",
        "\n",
        "```\n",
        "Program IMC  \n",
        "Start  \n",
        "    Declare float peso, altura, imc  \n",
        "\n",
        "    Display \"Ingrese su peso en libras:\"  \n",
        "    Input peso  \n",
        "\n",
        "    Display \"Ingrese su altura en pulgadas:\"  \n",
        "    Input altura  \n",
        "\n",
        "    Set imc = (peso * 703) / (altura * altura)  \n",
        "\n",
        "    Display \"Su IMC es:\", imc  \n",
        "\n",
        "    If imc < 18.5 Then  \n",
        "        Display \"Está por debajo del peso ideal\"  \n",
        "    Elif imc >= 18.5 And imc <= 25 Then  \n",
        "        Display \"Tiene un peso óptimo\"  \n",
        "    Else  \n",
        "        Display \"Tiene sobrepeso\"  \n",
        "    End If  \n",
        "End  \n",
        "```"
      ],
      "metadata": {
        "id": "AikZW4cCVGED"
      }
    },
    {
      "cell_type": "code",
      "source": [
        "peso = float(input(\"Ingrese su peso en libras: \"))\n",
        "altura = float(input(\"Ingrese su altura en pulgadas: \"))\n",
        "\n",
        "imc = (peso * 703) / (altura ** 2)\n",
        "\n",
        "print(f\"Su IMC es: {imc:.2f}\")\n",
        "if imc < 18.5:\n",
        "    print(\"Está por debajo del peso ideal.\")\n",
        "elif imc <= 25:\n",
        "    print(\"Tiene un peso óptimo.\")\n",
        "else:\n",
        "    print(\"Tiene sobrepeso.\")\n"
      ],
      "metadata": {
        "colab": {
          "base_uri": "https://localhost:8080/"
        },
        "id": "r49aHD33Vt-T",
        "outputId": "5b5333ac-481b-42b4-af69-92fb2a285541"
      },
      "execution_count": 52,
      "outputs": [
        {
          "output_type": "stream",
          "name": "stdout",
          "text": [
            "Ingrese su peso en libras: 105\n",
            "Ingrese su altura en pulgadas: 90\n",
            "Su IMC es: 9.11\n",
            "Está por debajo del peso ideal.\n"
          ]
        }
      ]
    },
    {
      "cell_type": "markdown",
      "source": [
        "#Ejercicio #11:\n",
        "\n",
        "#Calculadora de Tiempo  \n",
        "Diseña un programa que solicite al usuario ingresar una cantidad de segundos y funcione de la siguiente manera:\n",
        "- Hay 60 segundos en un minuto. Si la cantidad de segundos ingresada por el usuario es mayor o igual a 60, el programa debe mostrar la cantidad de minutos en esa cantidad de segundos.\n",
        "- Hay 3600 segundos en una hora. Si la cantidad de segundos ingresada por el usuario es mayor o igual a 3600, el programa debe mostrar la cantidad de horas en esa cantidad de segundos.\n",
        "- Hay 86400 segundos en un día. Si la cantidad de segundos ingresada por el usuario es mayor o igual a 86400, el programa debe mostrar la cantidad de días en esa cantidad de segundos.\n",
        "\n",
        "<br>_Algoritmo_\n",
        "\n",
        "1. Iniciar.\n",
        "2. Declarar segundos como entero.\n",
        "3. Mostrar \"Ingrese la cantidad de segundos:\"\n",
        "4. Leer segundos.\n",
        "5. Si segundos >= 86400, mostrar los días equivalentes.\n",
        "6. Si no, Si segundos >= 3600, mostrar las horas equivalentes.\n",
        "7. Si no, Si segundos >= 60, mostrar los minutos equivalentes.\n",
        "8. Si no, mostrar \"Es menos de un minuto\"\n",
        "9. Finalizar.\n",
        "\n",
        "```\n",
        "Program Calculadora_Tiempo  \n",
        "Start  \n",
        "    Declare int segundos  \n",
        "\n",
        "    Display \"Ingrese la cantidad de segundos:\"  \n",
        "    Input segundos  \n",
        "\n",
        "    If segundos >= 86400 Then  \n",
        "        Display \"Equivale a\", segundos / 86400, \"día(s)\"  \n",
        "    Elif segundos >= 3600 Then  \n",
        "        Display \"Equivale a\", segundos / 3600, \"hora(s)\"  \n",
        "    Elif segundos >= 60 Then  \n",
        "        Display \"Equivale a\", segundos / 60, \"minuto(s)\"  \n",
        "    Else  \n",
        "        Display \"Es menos de un minuto\"  \n",
        "    End If  \n",
        "End  \n",
        "```"
      ],
      "metadata": {
        "id": "hWpVUU8NKjFv"
      }
    },
    {
      "cell_type": "code",
      "source": [
        "segundos = int(input(\"Ingrese la cantidad de segundos: \"))\n",
        "\n",
        "if segundos >= 86400:\n",
        "    print(f\"Equivale a {segundos / 86400:.2f} día(s)\")\n",
        "elif segundos >= 3600:\n",
        "    print(f\"Equivale a {segundos / 3600:.2f} hora(s)\")\n",
        "elif segundos >= 60:\n",
        "    print(f\"Equivale a {segundos / 60:.2f} minuto(s)\")\n",
        "else:\n",
        "    print(\"Es menos de un minuto.\")\n"
      ],
      "metadata": {
        "colab": {
          "base_uri": "https://localhost:8080/"
        },
        "id": "N5YCdCOjLCCR",
        "outputId": "a93aa7b4-2e94-40bb-c44b-1cc0e45497e7"
      },
      "execution_count": 2,
      "outputs": [
        {
          "output_type": "stream",
          "name": "stdout",
          "text": [
            "Ingrese la cantidad de segundos: 86400\n",
            "Equivale a 1.00 día(s)\n"
          ]
        }
      ]
    },
    {
      "cell_type": "markdown",
      "source": [
        "#Ejercicio #12:\n",
        "\n",
        "#Cálculo de la Factura del Servicio de Agua\n",
        "Diseña un programa que calcule el valor total a pagar en la factura de agua teniendo en cuenta que este depende del consumo en metros cúbicos (m³) y el estrato socioeconómico del usuario. El consumo se clasifica en tres bloques:\n",
        "\n",
        "* Consumo Básico: los primeros 11 m³ que se cobran a $1,000 COP por m³.\n",
        "\n",
        "* Consumo Complementario: de 12 a 20 m³ que se cobran a $2,000 COP por m³.\n",
        "\n",
        "* Consumo Suntuoso: todo consumo por encima de 20 m³ que se cobran a $3,000 COP por m³.\n",
        "\n",
        "<br>Además, se aplican subsidios o contribuciones sobre el subtotal en función del estrato socioeconómico del usuario:\n",
        "* Estrato 1: subsidio del 50%.\n",
        "* Estrato 2: subsidio del 40%.\n",
        "* Estrato 3: subsidio del 15%.\n",
        "* Estrato 4: sin subsidio ni contribución.\n",
        "* Estratos 5 y 6: contribución del 20%.\n",
        "\n",
        "<br>_Algoritmo_\n",
        "\n",
        "1. Iniciar.\n",
        "2. Declarar consumo, estrato, total como números decimales.\n",
        "3. Mostrar \"Ingrese el consumo en m³:\"\n",
        "4. Leer consumo.\n",
        "5. Mostrar \"Ingrese el estrato socioeconómico:\"\n",
        "6. Leer estrato.\n",
        "7. Calcular el costo según el consumo.\n",
        "8. Aplicar descuento según el estrato.\n",
        "9. Mostrar \"El total a pagar es:\", total\n",
        "10. Finalizar.\n",
        "\n",
        "```\n",
        "Program Factura_Agua  \n",
        "Start  \n",
        "    Declare float consumo, total  \n",
        "    Declare int estrato  \n",
        "\n",
        "    Display \"Ingrese el consumo en m³:\"  \n",
        "    Input consumo  \n",
        "\n",
        "    Display \"Ingrese el estrato socioeconómico:\"  \n",
        "    Input estrato  \n",
        "\n",
        "    If consumo <= 11 Then  \n",
        "        Set total = consumo * 1000  \n",
        "    Elif consumo <= 20 Then  \n",
        "        Set total = (11 * 1000) + ((consumo - 11) * 2000)  \n",
        "    Else  \n",
        "        Set total = (11 * 1000) + (9 * 2000) + ((consumo - 20) * 3000)  \n",
        "    End If  \n",
        "\n",
        "    If estrato == 1 Then  \n",
        "        Set total = total * 0.5  \n",
        "    Elif estrato == 2 Then  \n",
        "        Set total = total * 0.6  \n",
        "    Elif estrato == 3 Then  \n",
        "        Set total = total * 0.85  \n",
        "    End If  \n",
        "\n",
        "    Display \"El total a pagar es:\", total  \n",
        "End  \n",
        "```"
      ],
      "metadata": {
        "id": "zLW4eTY9LS3J"
      }
    },
    {
      "cell_type": "code",
      "source": [
        "consumo = float(input(\"Ingrese el consumo en m³: \"))\n",
        "estrato = int(input(\"Ingrese el estrato socioeconómico: \"))\n",
        "\n",
        "if consumo <= 11:\n",
        "    total = consumo * 1000\n",
        "elif consumo <= 20:\n",
        "    total = (11 * 1000) + ((consumo - 11) * 2000)\n",
        "else:\n",
        "    total = (11 * 1000) + (9 * 2000) + ((consumo - 20) * 3000)\n",
        "\n",
        "if estrato == 1:\n",
        "    total *= 0.5\n",
        "elif estrato == 2:\n",
        "    total *= 0.6\n",
        "elif estrato == 3:\n",
        "    total *= 0.85\n",
        "\n",
        "print(f\"El total a pagar es: ${total:.2f}\")\n"
      ],
      "metadata": {
        "colab": {
          "base_uri": "https://localhost:8080/"
        },
        "id": "7eLXVPLxL-uX",
        "outputId": "e2a18869-efab-4890-a293-b0c386ef1a02"
      },
      "execution_count": 4,
      "outputs": [
        {
          "output_type": "stream",
          "name": "stdout",
          "text": [
            "Ingrese el consumo en m³: 20\n",
            "Ingrese el estrato socioeconómico: 3\n",
            "El total a pagar es: $24650.00\n"
          ]
        }
      ]
    },
    {
      "cell_type": "markdown",
      "source": [
        "#Ejercicio #13:\n",
        "\n",
        "#Cálculo del Costo de Envío para una Empresa de Mensajería\n",
        "Diseña un programa que calcule el costo total del envío de paquetes dependiendo del peso de los paquetes y la distancia recorrida. Las tarifas son las siguientes:\n",
        "* Paquetes de hasta 5 kg: $1,500 COP por kilómetro.\n",
        "\n",
        "* Paquetes de 6 a 20 kg: $2,500 COP por kilómetro.\n",
        "\n",
        "* Paquetes mayores a 20 kg: $3,500 COP por kilómetro.\n",
        "\n",
        "<br>Si el envío es a una zona fuera de la ciudad, se aplica un recargo del 15% sobre el costo total del envío.\n",
        "\n",
        "<br>_Algoritmo_\n",
        "\n",
        "1. Iniciar\n",
        "2. Declarar peso, distancia, tarifa, costo como números decimales\n",
        "3. Mostrar \"Ingrese el peso del paquete en kg:\"\n",
        "4. Leer peso\n",
        "5. Mostrar \"Ingrese la distancia en km:\"\n",
        "6. Leer distancia\n",
        "7. Mostrar \"¿El envío es fuera de la ciudad? (Sí/No):\"\n",
        "8. Leer zona\n",
        "9. Si peso <= 5, tarifa = 1500\n",
        "10. Si no, Si peso <= 20, tarifa = 2500\n",
        "11. Si no, tarifa = 3500\n",
        "12. Calcular costo = peso * distancia * tarifa\n",
        "13. Si zona == \"Sí\", costo = costo * 1.15\n",
        "14. Mostrar \"El costo total del envío es:\", costo\n",
        "15. Finalizar\n",
        "\n",
        "```\n",
        "Program Costo_Envio  \n",
        "Start  \n",
        "    Declare float peso, distancia, tarifa, costo  \n",
        "    Declare string zona  \n",
        "\n",
        "    Display \"Ingrese el peso del paquete en kg:\"  \n",
        "    Input peso  \n",
        "\n",
        "    Display \"Ingrese la distancia en km:\"  \n",
        "    Input distancia  \n",
        "\n",
        "    Display \"¿El envío es fuera de la ciudad? (Sí/No):\"  \n",
        "    Input zona  \n",
        "\n",
        "    If peso <= 5 Then  \n",
        "        Set tarifa = 1500  \n",
        "    Elif peso <= 20 Then  \n",
        "        Set tarifa = 2500  \n",
        "    Else  \n",
        "        Set tarifa = 3500  \n",
        "    End If  \n",
        "\n",
        "    Set costo = peso * distancia * tarifa  \n",
        "\n",
        "    If zona == \"Sí\" Then  \n",
        "        Set costo = costo * 1.15  \n",
        "    End If  \n",
        "\n",
        "    Display \"El costo total del envío es:\", costo  \n",
        "End  \n",
        "```"
      ],
      "metadata": {
        "id": "yUSdhM-CMlNR"
      }
    },
    {
      "cell_type": "code",
      "source": [
        "peso = float(input(\"Ingrese el peso del paquete en kg: \"))\n",
        "distancia = float(input(\"Ingrese la distancia en km: \"))\n",
        "zona = input(\"¿El envío es fuera de la ciudad? (Sí/No): \").strip().lower()\n",
        "\n",
        "if peso <= 5:\n",
        "    tarifa = 1500\n",
        "elif peso <= 20:\n",
        "    tarifa = 2500\n",
        "else:\n",
        "    tarifa = 3500\n",
        "\n",
        "costo = peso * distancia * tarifa\n",
        "\n",
        "if zona == \"sí\":\n",
        "    costo *= 1.15\n",
        "\n",
        "print(f\"El costo total del envío es: ${costo:.2f}\")\n"
      ],
      "metadata": {
        "colab": {
          "base_uri": "https://localhost:8080/"
        },
        "id": "fy0W-YMsNHjE",
        "outputId": "6d249df0-4731-465c-c69e-7ebd48d5691a"
      },
      "execution_count": 5,
      "outputs": [
        {
          "output_type": "stream",
          "name": "stdout",
          "text": [
            "Ingrese el peso del paquete en kg: 10\n",
            "Ingrese la distancia en km: 50\n",
            "¿El envío es fuera de la ciudad? (Sí/No): Sí\n",
            "El costo total del envío es: $1437500.00\n"
          ]
        }
      ]
    }
  ]
}