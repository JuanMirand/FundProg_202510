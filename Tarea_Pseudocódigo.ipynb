{
  "nbformat": 4,
  "nbformat_minor": 0,
  "metadata": {
    "colab": {
      "provenance": [],
      "authorship_tag": "ABX9TyOTbV3l57inFqw/36bT11+V",
      "include_colab_link": true
    },
    "kernelspec": {
      "name": "python3",
      "display_name": "Python 3"
    },
    "language_info": {
      "name": "python"
    }
  },
  "cells": [
    {
      "cell_type": "markdown",
      "metadata": {
        "id": "view-in-github",
        "colab_type": "text"
      },
      "source": [
        "<a href=\"https://colab.research.google.com/github/JuanMirand/FundProg_202510/blob/main/Tarea_Pseudoc%C3%B3digo.ipynb\" target=\"_parent\"><img src=\"https://colab.research.google.com/assets/colab-badge.svg\" alt=\"Open In Colab\"/></a>"
      ]
    },
    {
      "cell_type": "markdown",
      "source": [
        "##Tarea Pseudocódigo.\n",
        "**Nombre:** Juan Sebastián Miranda Almanza\n",
        "<br>**ID:** 000548579\n",
        "<br>**Email:** juan.mirandaa@upb.edu.co\n",
        "<br>**Fecha:**23/02/2025\n"
      ],
      "metadata": {
        "id": "aprrlGCK3NaC"
      }
    },
    {
      "cell_type": "markdown",
      "source": [
        "##Problema #1:\n",
        "\n",
        "<br>**Tarea:** Calcular la resistencia equivalente de 𝑛 resistencias en paralelo.\n",
        "<br>**Descripción:** Desarrolla un algoritmo que tome como entrada un valor 𝑛 que indica el número de resistencias en paralelo, el valor de cada una de ellas en ohmios, y calcule la resistencia equivalente. Tenga en cuenta que (1/Req) = (1/R1) + (1/R2) + ... + (1/Rn).\n",
        "\n",
        "<br>**Resultado:** La resistencia equivalente en ohmios.\n",
        "<br>**Entradas:** Un valor 𝑛 y 𝑛 valores de resistencia en ohmios.\n",
        "<br>**Ejemplo:** Entrada: 3, 100, 200, 300; **Salida esperada:** 54.54 (ohmios).\n",
        "\n",
        "<br>*Algoritmo:*\n",
        "1. Declarar una variable `n` para la cantidad de resistencias.\n",
        "2. Leer los valores de cada resistencia `Ri`.\n",
        "3. Calcular la inversa de la resistencia equivalente sumando los valores `1/Ri`.\n",
        "4. Obtener `Req` como `1 / sumatoria`.\n",
        "5. Mostrar el resultado.\n",
        "\n",
        "```\n",
        "Start\n",
        "  Input n\n",
        "  Set Req = 0\n",
        "  For i from 1 to n do\n",
        "    Input Ri\n",
        "    Set Req = Req + (1/Ri)\n",
        "  EndFor\n",
        "  Set Req = 1 / Req\n",
        "  Display \"Resistencia equivalente:\", Req\n",
        "End\n",
        "```"
      ],
      "metadata": {
        "id": "qwkfM-aE5U5C"
      }
    },
    {
      "cell_type": "code",
      "source": [
        "def resistencia_equivalente(n, resistencias):\n",
        "    Req_inv = sum(1/r for r in resistencias)\n",
        "    return round(1 / Req_inv, 2)\n",
        "\n",
        "# Ejemplo de uso\n",
        "n = 3\n",
        "resistencias = [100, 200, 300]\n",
        "print(\"Resistencia equivalente:\", resistencia_equivalente(n, resistencias))"
      ],
      "metadata": {
        "colab": {
          "base_uri": "https://localhost:8080/"
        },
        "id": "iEUqhhUo6DGA",
        "outputId": "14167f57-0358-414e-952f-779183842f80"
      },
      "execution_count": 16,
      "outputs": [
        {
          "output_type": "stream",
          "name": "stdout",
          "text": [
            "Resistencia equivalente: 54.55\n"
          ]
        }
      ]
    },
    {
      "cell_type": "markdown",
      "source": [
        "##Problema #2:\n",
        "\n",
        "<br>**Tarea:** Calcular la potencia disipada en un circuito con una resistencia dada y una corriente especificada.\n",
        "<br>**Descripción:** Escribe un algoritmo que tome como entrada el valor de la resistencia (𝑅) en ohmios y el\n",
        "valor de la corriente (𝐼) en amperios, y calcule la potencia disipada en el circuito utilizando la ley de\n",
        "Joule **𝑃=𝐼2𝑅**.\n",
        "\n",
        "<br>**Resultado:** La potencia disipada en el circuito en vatios.\n",
        "<br>**Entradas:** El valor de la resistencia en ohmios y el valor de la corriente en amperios.\n",
        "<br>**Ejemplo:** Entrada: 50 (ohmios), 2 (amperios); **Salida esperada:** 200 (vatios).\n",
        "\n",
        "<br>*Algoritmo*\n",
        "1. Declarar la variable `C` para la temperatura en grados Celsius.\n",
        "2. Leer el valor ingresado por el usuario.\n",
        "3. Aplicar la fórmula de conversión a Fahrenheit.\n",
        "4. Mostrar el resultado en Fahrenheit.\n",
        "\n",
        "```\n",
        "Start\n",
        "  Input C\n",
        "  Set Fahrenheit = (C * 9/5) + 32\n",
        "  Display \"Temperatura en Fahrenheit:\", Fahrenheit\n",
        "End\n",
        "```\n"
      ],
      "metadata": {
        "id": "ku1OfsqI73Nl"
      }
    },
    {
      "cell_type": "code",
      "source": [
        "def celsius_a_fahrenheit(celsius):\n",
        "    return round((celsius * 9/5) + 32, 2)\n",
        "\n",
        "# Ejemplo de uso\n",
        "temp_celsius = 25\n",
        "print(\"Temperatura en Fahrenheit:\", celsius_a_fahrenheit(temp_celsius))"
      ],
      "metadata": {
        "colab": {
          "base_uri": "https://localhost:8080/"
        },
        "id": "oD1r-NCL8xV8",
        "outputId": "bf509f34-0738-4c2e-d0f5-0297cf55476b"
      },
      "execution_count": 15,
      "outputs": [
        {
          "output_type": "stream",
          "name": "stdout",
          "text": [
            "Temperatura en Fahrenheit: 77.0\n"
          ]
        }
      ]
    },
    {
      "cell_type": "markdown",
      "source": [
        "##Problema #3:\n",
        "\n",
        "<br>**Tarea:** Calcular la corriente eléctrica en una resistencia.\n",
        "<br>**Descripción:** Escribe un algoritmo que tome como entrada el valor de la tensión (𝑉) en voltios y el valor de la resistencia (𝑅) en ohmios, y calcule la corriente eléctrica (𝐼) que circula por a través de ella utilizando la ley de Ohm **𝑉=𝑅𝐼 **\n",
        "\n",
        "<br>**Resultado:** La corriente eléctrica en una resistencia.\n",
        "<br>**Entradas:** El valor de la tensión en voltios y el valor de la resistencia en ohmios.\n",
        "<br>**Ejemplo:** Entrada: 12 (voltios), 4 (ohmios); **Salida esperada:** 3 (amperios).\n",
        "\n",
        "<br>*Algoritmo*\n",
        "1. Leer la base y la altura del triángulo.\n",
        "2. Aplicar la fórmula matemática.\n",
        "3. Mostrar el resultado.\n",
        "\n",
        "```\n",
        "Start\n",
        "  Input base, altura\n",
        "  Set Area = (base * altura) / 2\n",
        "  Display \"Área del triángulo:\", Area\n",
        "End\n",
        "```"
      ],
      "metadata": {
        "id": "bKPMZbHD81br"
      }
    },
    {
      "cell_type": "code",
      "source": [
        "def area_triangulo(base, altura):\n",
        "    return round((base * altura) / 2, 2)\n",
        "\n",
        "# Ejemplo de uso\n",
        "base = 10\n",
        "altura = 5\n",
        "print(\"Área del triángulo:\", area_triangulo(base, altura))"
      ],
      "metadata": {
        "colab": {
          "base_uri": "https://localhost:8080/"
        },
        "id": "8oWtbJxd9D7x",
        "outputId": "9655b832-e66c-40a0-bc7c-68813545bcfa"
      },
      "execution_count": 14,
      "outputs": [
        {
          "output_type": "stream",
          "name": "stdout",
          "text": [
            "Área del triángulo: 25.0\n"
          ]
        }
      ]
    },
    {
      "cell_type": "markdown",
      "source": [
        "##Problema #4:\n",
        "\n",
        "<br> **Tarea:** Calcular la constante de tiempo en un circuito RC.\n",
        "<br>**Descripción:** Desarrolla un algoritmo que tome como entrada el valor de la resistencia (𝑅) en ohmios y el valor de la capacitancia (𝐶), y calcule la constante de tiempo (𝜏) en un circuito RC utilizando la fórmula *t*=𝑅𝐶.\n",
        "\n",
        "<br>**Resultado:** La capacitancia del capacitor en faradios.\n",
        "<br>**Entradas:** El valor de la resistencia en ohmios y el valor del tiempo de carga en segundos.\n",
        "<br>**Ejemplo:** Entrada: 100 (ohmios), 0.0005 (faradios); **Salida esperada:** 0.05 (segundos).\n",
        "\n",
        "<br>*Algoritmo*\n",
        "1. Leer el valor de la resistencia `R` en ohmios.\n",
        "2. Leer el valor de la capacitancia `C` en faradios.\n",
        "3. Calcular la constante de tiempo `τ` como `R * C`.\n",
        "4. Mostrar el resultado.\n",
        "\n",
        "```\n",
        "Start\n",
        "  Input R, C\n",
        "  Set Tau = R * C\n",
        "  Display \"Constante de tiempo:\", Tau\n",
        "End\n",
        "```"
      ],
      "metadata": {
        "id": "le9WPld59V1l"
      }
    },
    {
      "cell_type": "code",
      "source": [
        "def constante_tiempo(R, C):\n",
        "    return R * C\n",
        "\n",
        "# Ejemplo de uso\n",
        "print(\"Constante de tiempo:\", constante_tiempo(100, 0.0005))"
      ],
      "metadata": {
        "colab": {
          "base_uri": "https://localhost:8080/"
        },
        "id": "N3nFrPWX9--H",
        "outputId": "b586c620-5851-4fd2-b114-2bab34e5acbe"
      },
      "execution_count": 17,
      "outputs": [
        {
          "output_type": "stream",
          "name": "stdout",
          "text": [
            "Constante de tiempo: 0.05\n"
          ]
        }
      ]
    },
    {
      "cell_type": "markdown",
      "source": [
        "##Problema #5:\n",
        "\n",
        "<br>Tarea: Calcular el consumo de energía en un periodo de tiempo a partir de las potencias promedios.\n",
        "<br>**Descripción:** Desarrolla un algoritmo que tome como entrada un número de horas (𝑛) y 𝑛 valores de potencia promedio por hora en 𝑘𝑊ℎ para calcular la energía total consumida en el periodo indicado. Para este caso, la energía consumida cada hora tiene el mismo valor de la potencia promedio por hora, y la energía total es la sumatoria de estas.  \n",
        "\n",
        "<br>Resultado: La energía total consumida en el periodo indicado.\n",
        "<br>Entradas: La duración del periodo en horas y las potencias promedio por hora.\n",
        "<br>Ejemplo: Entrada: 4 (horas), 25, 25, 50, 100; **Salida esperada:** 200 (kWh).\n",
        "\n",
        "<br>*Algoritmo*\n",
        "1. Leer el número de horas `n`.\n",
        "2. Leer los valores de potencia promedio por hora.\n",
        "3. Sumar los valores para obtener la energía total consumida.\n",
        "4. Mostrar el resultado.\n",
        "\n",
        "```\n",
        "Start\n",
        "  Input n\n",
        "  Set Energia = 0\n",
        "  For i from 1 to n do\n",
        "    Input P\n",
        "    Set Energia = Energia + P\n",
        "  EndFor\n",
        "  Display \"Energía total consumida:\", Energia\n",
        "End\n",
        "```"
      ],
      "metadata": {
        "id": "XRo39ijC-ElP"
      }
    },
    {
      "cell_type": "code",
      "source": [
        "def consumo_energia(n, potencias):\n",
        "    return sum(potencias)\n",
        "\n",
        "# Ejemplo de uso\n",
        "n = 4\n",
        "potencias = [25, 25, 50, 100]\n",
        "print(\"Energía total consumida:\", consumo_energia(n, potencias))"
      ],
      "metadata": {
        "colab": {
          "base_uri": "https://localhost:8080/"
        },
        "id": "b7NPfx0P-wdt",
        "outputId": "502b7645-66af-4877-c377-1fcd6ed8d82a"
      },
      "execution_count": 18,
      "outputs": [
        {
          "output_type": "stream",
          "name": "stdout",
          "text": [
            "Energía total consumida: 200\n"
          ]
        }
      ]
    }
  ]
}