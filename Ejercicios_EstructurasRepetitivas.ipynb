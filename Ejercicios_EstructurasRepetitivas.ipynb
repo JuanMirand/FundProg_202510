{
  "nbformat": 4,
  "nbformat_minor": 0,
  "metadata": {
    "colab": {
      "provenance": [],
      "authorship_tag": "ABX9TyOtK8xXB3NysKfhfYkXKqD1",
      "include_colab_link": true
    },
    "kernelspec": {
      "name": "python3",
      "display_name": "Python 3"
    },
    "language_info": {
      "name": "python"
    }
  },
  "cells": [
    {
      "cell_type": "markdown",
      "metadata": {
        "id": "view-in-github",
        "colab_type": "text"
      },
      "source": [
        "<a href=\"https://colab.research.google.com/github/JuanMirand/FundProg_202510/blob/main/Ejercicios_EstructurasRepetitivas.ipynb\" target=\"_parent\"><img src=\"https://colab.research.google.com/assets/colab-badge.svg\" alt=\"Open In Colab\"/></a>"
      ]
    },
    {
      "cell_type": "markdown",
      "source": [
        "#Ejercicios Estructuras Repetitivas\n",
        "\n",
        "**Integrantes:**\n",
        "<br> **Nombre:** Juan Sebastián Miranda Almanza\n",
        "<br> **ID:** 000548569\n",
        "<br> **Email:** juan.mirandaa@upb.edu.co\n",
        "<br> **Nombre:** Sebastían Leon Cordero\n",
        "<br> **ID:** 000572924\n",
        "<br> **Email:** sebastian.leonc@upb.edu.co\n",
        "<br> **Nombre:** Carlos Andrés Lazaro Villadiego\n",
        "<br> **ID:** 000577885\n",
        "<br> **Email:** carlos.lazarov@upb.edu.co"
      ],
      "metadata": {
        "id": "S4atpM3SAeCk"
      }
    },
    {
      "cell_type": "markdown",
      "source": [
        "##1. Coleccionista de Insectos\n",
        "Un coleccionista de insectos recoge insectos cada día durante siete días. Diseña un programa que mantenga un total acumulado del número de insectos recogidos durante esos siete días. El ciclo debe pedir el número de insectos recolectados cada día, y al finalizar, el programa debe mostrar el total de\n",
        "insectos recolectados.\n",
        "```\n",
        "Program Coleccionista_insectos\n",
        "Start\n",
        "   Declare total_insects As Integer = 0\n",
        "   Declare insects_day As Integer\n",
        "   For day From 1 To 7 Do\n",
        "      Display \"Ingrese el número de insectos recolectados en el día \", day\n",
        "      Input insects_day\n",
        "      total_insects <- total_insects + insects_day\n",
        "   EndFor\n",
        "   Display \"El total de insectos recolectados en la semana es: \", total_insects\n",
        "End\n",
        "```"
      ],
      "metadata": {
        "id": "ldYGyXkHDzd_"
      }
    },
    {
      "cell_type": "code",
      "source": [
        "total_insects = 0\n",
        "for day in range(1, 8):\n",
        "    insects_day = int(input(f\"Ingrese el número de insectos recolectados en el día {day}: \"))\n",
        "    total_insects += insects_day\n",
        "print(f\"El total de insectos recolectados en la semana es: {total_insects}\")\n"
      ],
      "metadata": {
        "colab": {
          "base_uri": "https://localhost:8080/"
        },
        "id": "8wsOZWH_FqKT",
        "outputId": "9c415ca1-1e4e-415d-fcc4-a5bc3052f92e"
      },
      "execution_count": 1,
      "outputs": [
        {
          "output_type": "stream",
          "name": "stdout",
          "text": [
            "Ingrese el número de insectos recolectados en el día 1: 10\n",
            "Ingrese el número de insectos recolectados en el día 2: 5\n",
            "Ingrese el número de insectos recolectados en el día 3: 2\n",
            "Ingrese el número de insectos recolectados en el día 4: 9\n",
            "Ingrese el número de insectos recolectados en el día 5: 10\n",
            "Ingrese el número de insectos recolectados en el día 6: 50\n",
            "Ingrese el número de insectos recolectados en el día 7: 2\n",
            "El total de insectos recolectados en la semana es: 88\n"
          ]
        }
      ]
    },
    {
      "cell_type": "markdown",
      "source": [
        "##2. Calorías Quemadas  \n",
        "Corriendo en una cinta específica quemas 3.9 calorías por minuto. Diseña un programa que use un ciclo para mostrar el número de calorías quemadas después de 10, 15, 20, 25 y 30 minutos.\n",
        "```\n",
        "Program Calorias_quemadas\n",
        "Start\n",
        "   Declare calories_per_minute As Real = 3.9\n",
        "   Declare burned_calories As Real\n",
        "   For minutes From 10 To 30 Step 5 Do\n",
        "      burned_calories <- minutes * calories_per_minute\n",
        "      Display \"Calorías quemadas en \", minutes, \" minutos: \", burned_calories\n",
        "   EndFor\n",
        "End\n",
        "```"
      ],
      "metadata": {
        "id": "HB7Hl5kCF98N"
      }
    },
    {
      "cell_type": "code",
      "source": [
        "calories_per_minute = 3.9\n",
        "for minutes in range(10, 35, 5):\n",
        "    burned_calories = minutes * calories_per_minute\n",
        "    print(f\"Calorías quemadas en {minutes} minutos: {burned_calories:.2f}\")\n"
      ],
      "metadata": {
        "colab": {
          "base_uri": "https://localhost:8080/"
        },
        "id": "edyZSMxhGMMP",
        "outputId": "ad7a720f-bda2-4e0c-939e-7ce1f2cd8718"
      },
      "execution_count": 2,
      "outputs": [
        {
          "output_type": "stream",
          "name": "stdout",
          "text": [
            "Calorías quemadas en 10 minutos: 39.00\n",
            "Calorías quemadas en 15 minutos: 58.50\n",
            "Calorías quemadas en 20 minutos: 78.00\n",
            "Calorías quemadas en 25 minutos: 97.50\n",
            "Calorías quemadas en 30 minutos: 117.00\n"
          ]
        }
      ]
    },
    {
      "cell_type": "markdown",
      "source": [
        "##3. Análisis de Presupuesto  \n",
        "Diseña un programa que pida al usuario ingresar la cantidad de dinero que ha presupuestado para un mes. Luego, en un ciclo, el programa debe pedirle al usuario que ingrese cada uno de sus gastos y mantener un total acumulado. Cuando el ciclo termine, el programa debe mostrar si el usuario se pasó o quedó por debajo de su presupuesto.\n",
        "```\n",
        "Progam Analisis_presupuesto\n",
        "Start\n",
        "   Declare budget, total_expenses As Real\n",
        "   Display \"Ingrese el presupuesto mensual: \"\n",
        "   Input budget\n",
        "   Display \"Ingrese sus gastos (0 para terminar):\"\n",
        "   While True Do\n",
        "      Input expense\n",
        "      If expense == 0 Then\n",
        "         Break\n",
        "      EndIf\n",
        "      total_expenses <- total_expenses + expense\n",
        "   EndWhile\n",
        "   Display \"Total gastado: \", total_expenses\n",
        "   If total_expenses > budget Then\n",
        "      Display \"Excedió el presupuesto por \", total_expenses - budget\n",
        "   ElseIf total_expenses < budget Then\n",
        "      Display \"Le sobraron \", budget - total_expenses\n",
        "   Else\n",
        "      Display \"Usó exactamente el presupuesto.\"\n",
        "   EndIf\n",
        "End\n",
        "```"
      ],
      "metadata": {
        "id": "la6hENSTGSF3"
      }
    },
    {
      "cell_type": "code",
      "source": [
        "budget = float(input(\"Ingrese el presupuesto mensual: \"))\n",
        "total_expenses = 0\n",
        "print(\"Ingrese sus gastos (0 para terminar):\")\n",
        "while True:\n",
        "    expense = float(input())\n",
        "    if expense == 0:\n",
        "        break\n",
        "    total_expenses += expense\n",
        "print(f\"Total gastado: {total_expenses:.2f}\")\n",
        "if total_expenses > budget:\n",
        "    print(f\"Excedió el presupuesto por {total_expenses - budget:.2f}\")\n",
        "elif total_expenses < budget:\n",
        "    print(f\"Le sobraron {budget - total_expenses:.2f}\")\n",
        "else:\n",
        "    print(\"Usó exactamente el presupuesto.\")\n"
      ],
      "metadata": {
        "colab": {
          "base_uri": "https://localhost:8080/"
        },
        "id": "AlG6QXpTGq85",
        "outputId": "cbef91ed-e784-4787-8643-3492f9993f68"
      },
      "execution_count": 3,
      "outputs": [
        {
          "output_type": "stream",
          "name": "stdout",
          "text": [
            "Ingrese el presupuesto mensual: 2000\n",
            "Ingrese sus gastos (0 para terminar):\n",
            "500\n",
            "5\n",
            "9\n",
            "0\n",
            "Total gastado: 514.00\n",
            "Le sobraron 1486.00\n"
          ]
        }
      ]
    },
    {
      "cell_type": "markdown",
      "source": [
        "##4. Suma de Números  \n",
        "Diseña un programa con un ciclo que le pida al usuario ingresar una serie de números positivos. El usuario debe ingresar un número negativo para indicar que ha terminado de ingresar números. Después de que se hayan ingresado todos los números positivos, el programa debe mostrar la suma de todos ellos.\n",
        "```\n",
        "Program Suma_numeros\n",
        "Start\n",
        "   Declare sum_total, number As Real\n",
        "   Display \"Ingrese números positivos (ingrese un número negativo para terminar):\"\n",
        "   While True Do\n",
        "      Input number\n",
        "      If number < 0 Then\n",
        "         Break\n",
        "      EndIf\n",
        "      sum_total <- sum_total + number\n",
        "   EndWhile\n",
        "   Display \"La suma de los números ingresados es: \", sum_total\n",
        "End\n",
        "```"
      ],
      "metadata": {
        "id": "yWFhUZD9Gy-y"
      }
    },
    {
      "cell_type": "code",
      "source": [
        "sum_total = 0\n",
        "print(\"Ingrese números positivos (ingrese un número negativo para terminar):\")\n",
        "while True:\n",
        "    number = float(input())\n",
        "    if number < 0:\n",
        "        break\n",
        "    sum_total += number\n",
        "print(f\"La suma de los números ingresados es: {sum_total}\")\n"
      ],
      "metadata": {
        "colab": {
          "base_uri": "https://localhost:8080/"
        },
        "id": "9g5l1Aa9G84r",
        "outputId": "527bfcf9-4dc2-4e14-f9d7-6487f09da54b"
      },
      "execution_count": 4,
      "outputs": [
        {
          "output_type": "stream",
          "name": "stdout",
          "text": [
            "Ingrese números positivos (ingrese un número negativo para terminar):\n",
            "6\n",
            "4\n",
            "8\n",
            "-4\n",
            "La suma de los números ingresados es: 18.0\n"
          ]
        }
      ]
    },
    {
      "cell_type": "markdown",
      "source": [
        "##5. Aumento de Matrícula  \n",
        "En una universidad, la matrícula para un estudiante de tiempo completo es de $6,000 por semestre. Se ha anunciado que la matrícula aumentará un 2% cada año durante los próximos cinco años. Diseña un programa con un ciclo que muestre la matrícula proyectada para los próximos cinco años.\n",
        "```\n",
        "Program Aumento_matricula\n",
        "Start\n",
        "   Declare tuition As Real = 6000\n",
        "   Declare increase_rate As Real = 0.02\n",
        "   Declare year As Integer\n",
        "   Display \"Proyección de matrícula para los próximos 5 años:\"\n",
        "   For year = 1 To 5\n",
        "      tuition <- tuition + (tuition * increase_rate)\n",
        "      Display \"Año \", year, \": $\", tuition\n",
        "   End For\n",
        "End\n",
        "\n",
        "```"
      ],
      "metadata": {
        "id": "S8W07KGBHF_v"
      }
    },
    {
      "cell_type": "code",
      "source": [
        "tuition = 6000\n",
        "increase_rate = 0.02\n",
        "print(\"Proyección de matrícula para los próximos 5 años:\")\n",
        "for year in range(1, 6):\n",
        "    tuition += tuition * increase_rate\n",
        "    print(f\"Año {year}: ${tuition:.2f}\")\n"
      ],
      "metadata": {
        "colab": {
          "base_uri": "https://localhost:8080/"
        },
        "id": "S79LS0VHKAVP",
        "outputId": "6d4f5281-3ff1-4ad5-f5b5-101c31a2e4b8"
      },
      "execution_count": 9,
      "outputs": [
        {
          "output_type": "stream",
          "name": "stdout",
          "text": [
            "Proyección de matrícula para los próximos 5 años:\n",
            "Año 1: $6120.00\n",
            "Año 2: $6242.40\n",
            "Año 3: $6367.25\n",
            "Año 4: $6494.59\n",
            "Año 5: $6624.48\n"
          ]
        }
      ]
    },
    {
      "cell_type": "markdown",
      "source": [
        "##6. Distancia Recorrida  \n",
        "La distancia que recorre un vehículo se puede calcular con la siguiente fórmula:\n",
        "        <br>**Distancia = Velocidad × Tiempo**  \n",
        "Por ejemplo, si un tren viaja a 40 millas por hora durante tres horas, la distancia recorrida es de 120 millas. Diseña un programa que le pida al usuario la velocidad de un vehículo (en millas por hora) y cuántas horas ha viajado. Luego debe usar un ciclo para mostrar la distancia recorrida por cada hora de ese período.\n",
        "<br>Ejemplo de salida:\n",
        "<br>¿Cuál es la velocidad del vehículo en mph? 40\n",
        "<br>¿Cuántas horas ha viajado? 3\n",
        "<br>![Captura de pantalla 2025-03-30 173100.png](data:image/png;base64,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)\n",
        "```\n",
        "Progam Distancia_recorrida\n",
        "Start\n",
        "   Declare speed, distance As Real\n",
        "   Declare hours, hour As Integer\n",
        "   Display \"Ingrese la velocidad del vehículo en mph: \"\n",
        "   Input speed\n",
        "   Display \"Ingrese el número de horas viajadas: \"\n",
        "   Input hours\n",
        "   Display \"Hora | Distancia Recorrida\"\n",
        "   For hour = 1 To hours\n",
        "      distance <- speed * hour\n",
        "      Display hour, \"   | \", distance\n",
        "   End For\n",
        "End\n",
        "\n",
        "```"
      ],
      "metadata": {
        "id": "aSlssLEVKD3U"
      }
    },
    {
      "cell_type": "code",
      "source": [
        "speed = float(input(\"Ingrese la velocidad del vehículo en mph: \"))\n",
        "hours = int(input(\"Ingrese el número de horas viajadas: \"))\n",
        "print(\"Hora | Distancia Recorrida\")\n",
        "for hour in range(1, hours + 1):\n",
        "    distance = speed * hour\n",
        "    print(f\"{hour}    | {distance:.2f} millas\")\n",
        "\n"
      ],
      "metadata": {
        "colab": {
          "base_uri": "https://localhost:8080/"
        },
        "id": "SW5crdpHLqWs",
        "outputId": "ff137c3e-f28b-4079-8e51-166bf8b9174c"
      },
      "execution_count": 10,
      "outputs": [
        {
          "output_type": "stream",
          "name": "stdout",
          "text": [
            "Ingrese la velocidad del vehículo en mph: 85\n",
            "Ingrese el número de horas viajadas: 8\n",
            "Hora | Distancia Recorrida\n",
            "1    | 85.00 millas\n",
            "2    | 170.00 millas\n",
            "3    | 255.00 millas\n",
            "4    | 340.00 millas\n",
            "5    | 425.00 millas\n",
            "6    | 510.00 millas\n",
            "7    | 595.00 millas\n",
            "8    | 680.00 millas\n"
          ]
        }
      ]
    },
    {
      "cell_type": "markdown",
      "source": [
        "##7. Promedio de Lluvias\n",
        "Diseña un programa que use ciclos anidados para recolectar datos y calcular el promedio de lluvia durante un período de años. El programa debe primero preguntar cuántos años se quiere evaluar. El ciclo externo se repetirá una vez por cada año. El ciclo interno se repetirá 12 veces, una por cada mes.\n",
        "Cada iteración del ciclo interno debe pedir al usuario los centímetros de lluvia de ese mes. Al finalizar todas las iteraciones, el programa debe mostrar el número total de meses, el total de lluvia en centímetros y el promedio de lluvia por mes para todo el período.\n",
        "```\n",
        "Program Promedio_lluvias\n",
        "Start\n",
        "   Declare years, months As Integer\n",
        "   Declare total_rainfall, monthly_rainfall, average_rainfall As Real\n",
        "   Declare year, month As Integer\n",
        "   Display \"Ingrese el número de años: \"\n",
        "   Input years\n",
        "   Set total_rainfall <- 0\n",
        "   Set months <- 12\n",
        "   For year = 1 To years\n",
        "      For month = 1 To months\n",
        "         Display \"Ingrese la lluvia (cm) del mes \", month, \" del año \", year, \": \"\n",
        "         Input monthly_rainfall\n",
        "         total_rainfall <- total_rainfall + monthly_rainfall\n",
        "      End For\n",
        "   End For\n",
        "   average_rainfall <- total_rainfall / (years * months)\n",
        "   Display \"Total de meses: \", years * months\n",
        "   Display \"Total de lluvia: \", total_rainfall\n",
        "   Display \"Promedio de lluvia mensual: \", average_rainfall\n",
        "End\n",
        "\n",
        "```"
      ],
      "metadata": {
        "id": "mx9SuxMTLzwF"
      }
    },
    {
      "cell_type": "code",
      "source": [
        "years = int(input(\"Ingrese el número de años: \"))\n",
        "total_rainfall = 0\n",
        "months = 12\n",
        "\n",
        "for year in range(1, years + 1):\n",
        "    for month in range(1, months + 1):\n",
        "        monthly_rainfall = float(input(f\"Ingrese la lluvia (cm) del mes {month} del año {year}: \"))\n",
        "        total_rainfall += monthly_rainfall\n",
        "\n",
        "average_rainfall = total_rainfall / (years * months)\n",
        "print(f\"Total de meses: {years * months}\")\n",
        "print(f\"Total de lluvia: {total_rainfall:.2f} cm\")\n",
        "print(f\"Promedio de lluvia mensual: {average_rainfall:.2f} cm\")\n",
        "\n"
      ],
      "metadata": {
        "colab": {
          "base_uri": "https://localhost:8080/"
        },
        "id": "wMw0uEmdMPGi",
        "outputId": "c8173478-3e88-4247-c77d-df9993b4035b"
      },
      "execution_count": 11,
      "outputs": [
        {
          "output_type": "stream",
          "name": "stdout",
          "text": [
            "Ingrese el número de años: 2\n",
            "Ingrese la lluvia (cm) del mes 1 del año 1: 7\n",
            "Ingrese la lluvia (cm) del mes 2 del año 1: 3\n",
            "Ingrese la lluvia (cm) del mes 3 del año 1: 56\n",
            "Ingrese la lluvia (cm) del mes 4 del año 1: 2\n",
            "Ingrese la lluvia (cm) del mes 5 del año 1: 5\n",
            "Ingrese la lluvia (cm) del mes 6 del año 1: 4\n",
            "Ingrese la lluvia (cm) del mes 7 del año 1: 1\n",
            "Ingrese la lluvia (cm) del mes 8 del año 1: 6\n",
            "Ingrese la lluvia (cm) del mes 9 del año 1: 4\n",
            "Ingrese la lluvia (cm) del mes 10 del año 1: 1\n",
            "Ingrese la lluvia (cm) del mes 11 del año 1: 4\n",
            "Ingrese la lluvia (cm) del mes 12 del año 1: 6\n",
            "Ingrese la lluvia (cm) del mes 1 del año 2: 8\n",
            "Ingrese la lluvia (cm) del mes 2 del año 2: 1\n",
            "Ingrese la lluvia (cm) del mes 3 del año 2: 5\n",
            "Ingrese la lluvia (cm) del mes 4 del año 2: 2\n",
            "Ingrese la lluvia (cm) del mes 5 del año 2: 1\n",
            "Ingrese la lluvia (cm) del mes 6 del año 2: 5\n",
            "Ingrese la lluvia (cm) del mes 7 del año 2: 7\n",
            "Ingrese la lluvia (cm) del mes 8 del año 2: 9\n",
            "Ingrese la lluvia (cm) del mes 9 del año 2: 4\n",
            "Ingrese la lluvia (cm) del mes 10 del año 2: 7\n",
            "Ingrese la lluvia (cm) del mes 11 del año 2: 1\n",
            "Ingrese la lluvia (cm) del mes 12 del año 2: 8\n",
            "Total de meses: 24\n",
            "Total de lluvia: 157.00 cm\n",
            "Promedio de lluvia mensual: 6.54 cm\n"
          ]
        }
      ]
    },
    {
      "cell_type": "markdown",
      "source": [
        "##8. Tabla de Celsius a Fahrenheit\n",
        "Diseña un programa que muestre una tabla de las temperaturas en grados Celsius del 0 al 20 y sus equivalentes en Fahrenheit. La fórmula para convertir una temperatura de Celsius a Fahrenheit es:\n",
        "<br>**F = (9/5 * C) + 32**\n",
        "<br>Donde F es la temperatura en Fahrenheit y C es la temperatura en Celsius. Tu programa debe usar un ciclo para mostrar la tabla.\n",
        "```\n",
        "Program Tabla_celsius\n",
        "Start\n",
        "   Declare celsius, fahrenheit As Real\n",
        "   Display \"Ingrese la temperatura en grados Celsius: \"\n",
        "   Input celsius\n",
        "   fahrenheit <- (celsius * 9 / 5) + 32\n",
        "   Display \"La temperatura en grados Fahrenheit es: \", fahrenheit\n",
        "End\n",
        "```"
      ],
      "metadata": {
        "id": "d-qkEqmOODGu"
      }
    },
    {
      "cell_type": "code",
      "source": [
        "celsius = float(input(\"Ingrese la temperatura en grados Celsius: \"))\n",
        "fahrenheit = (celsius * 9 / 5) + 32\n",
        "print(f\"La temperatura en grados Fahrenheit es: {fahrenheit:.2f}\")\n"
      ],
      "metadata": {
        "colab": {
          "base_uri": "https://localhost:8080/"
        },
        "id": "BFHLxbAqOyvd",
        "outputId": "6b44f69f-e51b-4f45-a4f0-bb7f6c4a8e6d"
      },
      "execution_count": 8,
      "outputs": [
        {
          "output_type": "stream",
          "name": "stdout",
          "text": [
            "Ingrese la temperatura en grados Celsius: 10\n",
            "La temperatura en grados Fahrenheit es: 50.00\n"
          ]
        }
      ]
    },
    {
      "cell_type": "markdown",
      "source": [
        "##9. Centavos por Pago\n",
        "Diseña un programa que calcule la cantidad de dinero que una persona ganaría durante un período de tiempo si su salario es de un centavo el primer día, dos centavos el segundo día, y se duplica cada día. El programa debe pedir al usuario el número de días. Muestra una tabla que muestre cuál fue el salario por cada día y luego muestra el pago total al final del período. El total debe mostrarse en dólares, no en número de centavos.\n",
        "```\n",
        "Program Centavos_pago\n",
        "Start\n",
        "   Declare days_worked As Integer\n",
        "   Declare salary, total_salary As Real\n",
        "   Declare day As Integer\n",
        "   Display \"Ingrese el número de días trabajados: \"\n",
        "   Input days_worked\n",
        "   Set salary <- 0.01\n",
        "   Set total_salary <- 0\n",
        "   Display \"Día | Salario del día\"\n",
        "   For day = 1 To days_worked\n",
        "      Display day, \"   | $\", salary\n",
        "      total_salary <- total_salary + salary\n",
        "      salary <- salary * 2\n",
        "   End For\n",
        "   Display \"Salario total acumulado: $\", total_salary\n",
        "End\n",
        "```"
      ],
      "metadata": {
        "id": "CemJx7M-Ps9c"
      }
    },
    {
      "cell_type": "code",
      "source": [
        "days_worked = int(input(\"Ingrese el número de días trabajados: \"))\n",
        "salary = 0.01\n",
        "total_salary = 0\n",
        "\n",
        "print(\"Día | Salario del día\")\n",
        "for day in range(1, days_worked + 1):\n",
        "    print(f\"{day}   | ${salary:.2f}\")\n",
        "    total_salary += salary\n",
        "    salary *= 2\n",
        "\n",
        "print(f\"Salario total acumulado: ${total_salary:.2f}\")\n"
      ],
      "metadata": {
        "colab": {
          "base_uri": "https://localhost:8080/"
        },
        "id": "6S7DPdAnQOIQ",
        "outputId": "816fa66a-0f6e-4477-e40e-1082710dbf65"
      },
      "execution_count": 12,
      "outputs": [
        {
          "output_type": "stream",
          "name": "stdout",
          "text": [
            "Ingrese el número de días trabajados: 4\n",
            "Día | Salario del día\n",
            "1   | $0.01\n",
            "2   | $0.02\n",
            "3   | $0.04\n",
            "4   | $0.08\n",
            "Salario total acumulado: $0.15\n"
          ]
        }
      ]
    },
    {
      "cell_type": "markdown",
      "source": [],
      "metadata": {
        "id": "72_ltUM0QQxx"
      }
    }
  ]
}